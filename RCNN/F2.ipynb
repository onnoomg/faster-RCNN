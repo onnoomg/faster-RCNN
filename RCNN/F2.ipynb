{
 "cells": [
  {
   "cell_type": "code",
   "execution_count": null,
   "metadata": {
    "collapsed": true,
    "pycharm": {
     "name": "#%%\n"
    }
   },
   "outputs": [],
   "source": [
    "def find_overlapping_for_F2(interval1, interval2):\n",
    "    if interval1[0] < interval2[0]:\n",
    "        if interval1[1] > interval2[0]:\n",
    "            if interval1[1] < interval2[1]:\n",
    "                dif = interval1[1] - interval2[0]\n",
    "                return dif\n",
    "            if interval1[1] > interval2[1]:\n",
    "                dif = interval2[1] - interval2[0]\n",
    "                return dif\n",
    "    if interval1[0] > interval2[0]:\n",
    "        if interval2[1] > interval1[0]:\n",
    "            if interval2[1] < interval1[1]:\n",
    "                dif = interval2[1] - interval1[0]\n",
    "                return dif\n",
    "            if interval2[1] < interval1[1]:\n",
    "                dif = interval1[1] - interval1[0]\n",
    "                return dif\n",
    "    if interval1[0] == interval2[0]:\n",
    "        if interval2[1] == interval1[1]:\n",
    "            return interval1[1] - interval1[0]\n",
    "        if interval2[1] > interval1[1]:\n",
    "            return interval1[1] - interval1[0]\n",
    "        if interval2[1] < interval1[0]:\n",
    "            return interval2[1] - interval2[0]\n",
    "    return 0"
   ]
  },
  {
   "cell_type": "code",
   "execution_count": null,
   "outputs": [],
   "source": [
    "#这个函数的box的格式是 = [x,y,x1,y1] or [c,r,c1,c2] x，y就是annotations里面的x，y x1 = x + width y1 = y + height\n",
    "def IoU(ground_truth_box,submission_box):\n",
    "    g_interval_x = [ground_truth_box[0],ground_truth_box[2]]\n",
    "    g_interval_y = [ground_truth_box[1],ground_truth_box[3]]\n",
    "    s_interval_x = [submission_box[0],submission_box[2]]\n",
    "    s_interval_y = [submission_box[1],submission_box[3]]\n",
    "    intersect_x = find_overlapping_for_F2(g_interval_x,s_interval_x)\n",
    "    intersect_y = find_overlapping_for_F2(g_interval_y,s_interval_y)\n",
    "    g_area = (ground_truth_box[2]-ground_truth_box[0])*(ground_truth_box[3]-ground_truth_box[1])\n",
    "    s_area = (submission_box[2]-submission_box[0])*(submission_box[3]-submission_box[1])\n",
    "    if intersect_x > 0 and intersect_y > 0:\n",
    "        area_intersect = intersect_y*intersect_x\n",
    "        iou = area_intersect/(g_area+s_area-area_intersect)\n",
    "        return iou\n",
    "    return 0"
   ],
   "metadata": {
    "collapsed": false,
    "pycharm": {
     "name": "#%%\n"
    }
   }
  },
  {
   "cell_type": "code",
   "execution_count": null,
   "outputs": [],
   "source": [
    "#这个函数的box的格式是[(x,y),(x+width,y+height)] x,y,width,height 都是annotations里面的\n",
    "#B就是 annotations里面的全部框 是ground truth\n",
    "#S是你在一张图片里面检测出来的全部框\n",
    "def JudgeDetection(B,S,threshold):\n",
    "    TP = 0\n",
    "    FP = 0\n",
    "    matched_B = []\n",
    "    for box_s in S:\n",
    "        max_iou = 0\n",
    "        max_iou_ground_truth_box = []\n",
    "        for box_g in B:\n",
    "            ground_truth_box = [box_g[0][0],box_g[0][1],box_g[1][0],box_g[1][1]]\n",
    "            submission_box = [box_s[0][0],box_s[0][1],box_s[1][0],box_s[1][1]]\n",
    "            iou = IoU(ground_truth_box,submission_box)\n",
    "            if iou > 0 and iou > max_iou:\n",
    "                max_iou_ground_truth_box = [ground_truth_box]\n",
    "                max_iou = iou\n",
    "        if max_iou >= threshold:\n",
    "            TP += 1\n",
    "        elif max_iou_ground_truth_box and max_iou < threshold:\n",
    "            FP += 1\n",
    "        if max_iou_ground_truth_box:\n",
    "           matched_B.append(max_iou_ground_truth_box[0])\n",
    "    FN =  len(B) - len(matched_B)\n",
    "    return TP, FP, FN"
   ],
   "metadata": {
    "collapsed": false,
    "pycharm": {
     "name": "#%%\n"
    }
   }
  },
  {
   "cell_type": "code",
   "execution_count": null,
   "outputs": [],
   "source": [
    "def F2_score(TP,FP,FN):\n",
    "    F2 = (1+4)*TP/((1+4)*TP+4*FN+FP)\n",
    "    return F2"
   ],
   "metadata": {
    "collapsed": false,
    "pycharm": {
     "name": "#%%\n"
    }
   }
  }
 ],
 "metadata": {
  "kernelspec": {
   "display_name": "Python 3",
   "language": "python",
   "name": "python3"
  },
  "language_info": {
   "codemirror_mode": {
    "name": "ipython",
    "version": 2
   },
   "file_extension": ".py",
   "mimetype": "text/x-python",
   "name": "python",
   "nbconvert_exporter": "python",
   "pygments_lexer": "ipython2",
   "version": "2.7.6"
  }
 },
 "nbformat": 4,
 "nbformat_minor": 0
}